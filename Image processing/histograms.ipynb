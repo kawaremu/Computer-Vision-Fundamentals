{
 "cells": [
  {
   "cell_type": "markdown",
   "metadata": {},
   "source": [
    "# Histogramme d'une image\n",
    "\n",
    "L’histogramme d’une image est le graphique qui représente le nombre de pixels existant pour chaque valeur. \n",
    "Calculer l’histogramme de l’image en niveaux de gris, c’est en d’autres termes compter combien il y a de pixels pour chaque nuance de gris.\n",
    "\n",
    "Formellement, pour une fonction $f:E→[0..n] ⊆ N$, l’histogramme de f est une fonction $T(f):[0,n]→N$ qui, à chaque niveau de gris v, associe le nombre d’éléments $x$ de $E$ tel que $f(x)=v$ :\n",
    "\n",
    "$Tf(v)=|{x∈E | f(x)=v}|$"
   ]
  },
  {
   "cell_type": "code",
   "execution_count": null,
   "metadata": {},
   "outputs": [],
   "source": [
    "import cv2 as cv\n",
    "from matplotlib import pyplot as plt\n",
    "import numpy as np"
   ]
  },
  {
   "cell_type": "code",
   "execution_count": null,
   "metadata": {},
   "outputs": [],
   "source": [
    "plt.rcParams[\"figure.figsize\"] = (12,4)"
   ]
  },
  {
   "cell_type": "code",
   "execution_count": null,
   "metadata": {},
   "outputs": [],
   "source": [
    "g_img = cv.imread(\"assets/hawkey.png\")"
   ]
  },
  {
   "cell_type": "code",
   "execution_count": null,
   "metadata": {},
   "outputs": [],
   "source": [
    "# # Cas d'une image en couleurs\n",
    "# img = cv.imread(\"assets/hawkey.png\")\n",
    "# b,v,r = cv.split(img)  \n",
    "# g_img = 0.299*r + 0.587*v + 0.114*b # opération matricielle\n",
    "# g_img = g_img.astype(np.uint8) # convertit les réels en octets"
   ]
  },
  {
   "cell_type": "code",
   "execution_count": null,
   "metadata": {},
   "outputs": [],
   "source": [
    "plt.imshow(g_img)"
   ]
  },
  {
   "cell_type": "code",
   "execution_count": null,
   "metadata": {},
   "outputs": [],
   "source": [
    "def histogramme(image: np.array) -> None: \n",
    "  histogramme = np.zeros(256,dtype=int)\n",
    "  for i in range(0,image.shape[0]):\n",
    "    for j in range(0,image.shape[1]):\n",
    "      histogramme[image[i,j]] = histogramme[image[i,j]] + 1\n",
    "  # plt.title('Histogramme de l\\'image')\n",
    "  # plt.xlabel('Niveaux de gris')\n",
    "  # plt.ylabel('Fréquence')\n",
    "  # plt.bar(np.arange(256),histogramme)\n",
    "  # plt.show()\n",
    "  return histogramme"
   ]
  },
  {
   "cell_type": "code",
   "execution_count": null,
   "metadata": {},
   "outputs": [],
   "source": [
    "h = histogramme(image=g_img)\n",
    "plt.title('Histogramme de l\\'image')\n",
    "plt.xlabel('Niveaux de gris')\n",
    "plt.ylabel('Fréquence')\n",
    "plt.bar(np.arange(256),h)\n",
    "plt.show()"
   ]
  },
  {
   "cell_type": "markdown",
   "metadata": {},
   "source": [
    "# Normalisation d'un histogramme\n",
    "L’opération de normalisation d’histogramme permet d’étendre la plage de valeurs d’une image en étalant de manière uniforme les niveaux de gris de l’image sur tout l’intervalle de valeurs disponibles. Afin d’améliorer la qualité visuelle de l’image on peut chercher une transformation plus complexe (non uniforme) en partant du principe qu’une image avec un histogramme plat est généralement agréable. Concrètement, au lieu de chercher une transformation affine, on cherche une transformation croissante (on veut préserver l’ordre des niveaux des gris) telle que l’histogramme de l’image transformée soit le plus proche possible d’une distribution uniforme.\n",
    "\n",
    "Afin de définir cette transformation, nous avons besoin de la notion d’histogramme cumulé qui mesure la distribution cumulée des niveaux de gris dans une image. Pour un niveau de gris $x$, l’histogramme cumulé permet de connaitre la probabilité de tomber sur un pixel de valeur inférieure ou égale à $x$ en tirant un pixel au hasard dans l’image."
   ]
  },
  {
   "cell_type": "code",
   "execution_count": null,
   "metadata": {},
   "outputs": [],
   "source": [
    "def histogramme_normalise(image):\n",
    "  h = histogramme(image)\n",
    "  hn = h/g_img.size\n",
    "  plt.title('Histogramme normalisé')\n",
    "  plt.bar(np.arange(256),hn)\n",
    "  return hn"
   ]
  },
  {
   "cell_type": "markdown",
   "metadata": {},
   "source": [
    "# Egalisation d'histogramme et histogramme cumulé\n",
    "L’égalisation d’histogramme consiste à corriger une image qui manque de contraste : ses couleurs, ou ses niveaux de gris,\n",
    "se concentrent sur seulement quelques valeurs.\n",
    "\n",
    "Cette transformation va faire une conversion de couleurs :\n",
    "Afin d’utiliser toute l’étendue des niveaux ;\n",
    "Afin d’avoir (à peu près) autant de pixels de chaque niveau.\n",
    "\n",
    "L’astuce consiste à d’abord calculer l’histogramme cumulé (le principe est le même que pour l’histogramme, \n",
    "si ce n’est que pour toute valeur  i  on calcule non pas le nombre de pixels de cette valeur dans l’image, \n",
    "mais on cumule le nombre de pixels de valeur égale ou inférieure à  i  dans l’image).\n",
    "\n",
    "Ensuite, on utilise cet histogramme cumulé directement comme une table de conversion des niveaux de gris \n",
    "(pour cela, on normalise les valeurs de l’histogramme cumulé pour les ramener entre 0 et 255). L\n",
    "’idée de cette conversion étant la suivante :\n"
   ]
  },
  {
   "cell_type": "code",
   "execution_count": null,
   "metadata": {},
   "outputs": [],
   "source": [
    "img = cv.imread(\"assets\\hawkey.png\",0)"
   ]
  },
  {
   "cell_type": "code",
   "execution_count": null,
   "metadata": {},
   "outputs": [],
   "source": [
    "img.shape"
   ]
  },
  {
   "cell_type": "code",
   "execution_count": null,
   "metadata": {},
   "outputs": [],
   "source": [
    "#Fonction qui retourne l'histogramme cumulé\n",
    "def histogramme_cumule(image: np.array): \n",
    "  \n",
    "  h = histogramme(image)\n",
    "\n",
    "  histogramme_cum = np.zeros(len(h),dtype=int)\n",
    "  for i in range(0,len(h)):\n",
    "    histogramme_cum[i] = histogramme_cum[i-1] + h[i] \n",
    "\n",
    "  \n",
    "  # plt.bar(np.arange(256),histogramme_cum)\n",
    "  # plt.show()\n",
    "  \n",
    "  return histogramme_cum"
   ]
  },
  {
   "cell_type": "code",
   "execution_count": null,
   "metadata": {},
   "outputs": [],
   "source": [
    "hc = histogramme_cumule(img)\n",
    "plt.bar(np.arange(256),hc)\n",
    "plt.show()"
   ]
  },
  {
   "cell_type": "code",
   "execution_count": null,
   "metadata": {},
   "outputs": [],
   "source": [
    "def histogramme_cumule_normalise(image: np.array):\n",
    "  hc = histogramme_cumule(image)\n",
    "  hcn = hc/image.size \n",
    "  plt.bar(np.arange(256),hc)\n",
    "  plt.show()\n",
    "  return hcn"
   ]
  },
  {
   "cell_type": "code",
   "execution_count": null,
   "metadata": {},
   "outputs": [],
   "source": [
    "def egaliser_histogramme(image: np.array):\n",
    "  hcn = histogramme_cumule_normalise(image)\n",
    "  copy_img = np.copy(image)\n",
    "  copy_img = hcn[copy_img]*255\n",
    "      \n",
    "  plt.imshow(copy_img,cmap='gray')\n",
    "  plt.show()\n",
    "  return copy_img"
   ]
  },
  {
   "cell_type": "code",
   "execution_count": null,
   "metadata": {},
   "outputs": [],
   "source": [
    "egaliser_histogramme(img)"
   ]
  },
  {
   "cell_type": "markdown",
   "metadata": {},
   "source": [
    "## Expansion de la dynamique\n",
    "Tous les faibles niveaux inutilisés dans l’image (ici de 0 à 120 environ) seront ramenés à 0 ;\n",
    "\n",
    "Tous les hauts niveaux inutilisés (ici d’environ 200 à 255) seront ramenés à 255 ;\n",
    "\n",
    "Les seuls niveaux utilisés seront étalés entre 0 et 255 suivant la progression de l’histogramme cumulé\n",
    "(tout un niveau étant déplacé vers un nouveau niveau, ce qui intercalera des « trous » de niveaux non utilisés dans l’image finale).\n",
    "\n",
    "$I’(i,j) = \\frac{(I(i,j) - Min(I)) . 255}{Max(I)-Min(I)}$"
   ]
  },
  {
   "cell_type": "code",
   "execution_count": null,
   "metadata": {},
   "outputs": [],
   "source": [
    "def expansion_dynamique(image: np.ndarray) -> None:\n",
    "  min = np.min(image)\n",
    "  max = np.max(image)\n",
    "  new_image = np.around(255/(max-min)*(image-min)).astype(np.uint8)\n",
    "  plt.imshow(new_image,cmap=\"gray\")\n",
    "  plt.show()\n",
    "  return new_image"
   ]
  },
  {
   "cell_type": "code",
   "execution_count": null,
   "metadata": {},
   "outputs": [],
   "source": [
    "def expansion_dynamique(image):\n",
    "  return (((image - np.min(image)*255))/(np.max(image) - np.min(image)))\n",
    "  "
   ]
  },
  {
   "cell_type": "code",
   "execution_count": null,
   "metadata": {},
   "outputs": [],
   "source": [
    "plt.imshow(g_img,cmap=\"gray\")"
   ]
  },
  {
   "cell_type": "code",
   "execution_count": null,
   "metadata": {},
   "outputs": [],
   "source": [
    "et_im = expansion_dynamique(g_img)\n",
    "plt.imshow(et_im,cmap=\"gray\")"
   ]
  },
  {
   "cell_type": "markdown",
   "metadata": {},
   "source": [
    "## Histogramme cumulé"
   ]
  },
  {
   "cell_type": "code",
   "execution_count": null,
   "metadata": {},
   "outputs": [],
   "source": [
    "#Fonction qui retourne l'histogramme cumulé\n",
    "def histogramme_cumule(image: np.array): \n",
    "  fig, (ax1, ax2) = plt.subplots(1, 2)\n",
    "  fig.suptitle('Histogramme et histogramme cumulé')\n",
    "  histogramme = np.zeros(256,dtype=int)\n",
    "\n",
    "  for i in range(0,image.shape[0]):\n",
    "    for j in range(0,image.shape[1]):\n",
    "      histogramme[image[i,j]] = histogramme[image[i,j]] + 1\n",
    "\n",
    "  histogramme_cum = np.zeros(len(histogramme),dtype=int)\n",
    "  for i in range(0,len(histogramme)):\n",
    "    histogramme_cum[i] = histogramme_cum[i-1] + histogramme[i] \n",
    "  \n",
    "  ax1.bar(np.arange(256),histogramme)\n",
    "  ax2.bar(np.arange(256),histogramme_cum)\n",
    "  plt.show()\n",
    "  \n",
    "  return histogramme_cum"
   ]
  },
  {
   "cell_type": "code",
   "execution_count": null,
   "metadata": {},
   "outputs": [],
   "source": [
    "#Fonction qui retourne l'histogramme cumulé\n",
    "def histogramme_cumule_normalise(image: np.array): \n",
    "  fig, (ax1, ax2) = plt.subplots(1, 2)\n",
    "  fig.suptitle('Histogramme et histogramme cumulé normalisé')\n",
    "  \n",
    "  histogramme = np.zeros(256,dtype=int)\n",
    "  for i in range(0,image.shape[0]):\n",
    "    for j in range(0,image.shape[1]):\n",
    "      histogramme[image[i,j]] = histogramme[image[i,j]] + 1\n",
    "\n",
    "  histogramme_cum = np.zeros(len(histogramme),dtype=int)\n",
    "  for i in range(0,len(histogramme)):\n",
    "    histogramme_cum[i] = histogramme_cum[i-1] + histogramme[i] \n",
    "  \n",
    "  histogramme = histogramme/image.size\n",
    "  histogramme_cum = histogramme_cum/image.size\n",
    "  ax1.bar(np.arange(256),histogramme)\n",
    "  ax2.bar(np.arange(256),histogramme_cum)\n",
    "  plt.show()\n",
    "  \n",
    "  return histogramme_cum"
   ]
  },
  {
   "cell_type": "markdown",
   "metadata": {},
   "source": [
    "On peut remarquer que, en notant N le nombre de pixel dans une image f, pour une valeur de niveau de gris $v$, $Cf(v)/N$ est la proportion de pixels ayant une valeur inférieure ou égale à v dans l’image. Dans une image visuellement agréable, l’histogramme cumulé est proche de la diagonale, dans ce cas on devrait avoir $v/n=Cf(v)/N$ : la proportion du niveau de gris v par rapport au niveau de gris maximal n est égale à la proportion de pixels ayant une valeur inférieure ou égale à v par rapport au nombre total de pixel.\n",
    "\n",
    "En combinant cette observation avec le fait de vouloir obtenir une valeur minimale égale à Vmin et une valeur maximale égale à Vmax, on obtient la formule d’égalisation d’histogramme:\n",
    "\n",
    "$∀v∈[0..n],eg(v)=\\frac{Vmax−Vmin}{N}Cf(v)+Vmin$"
   ]
  },
  {
   "cell_type": "code",
   "execution_count": null,
   "metadata": {},
   "outputs": [],
   "source": [
    "def egaliser_histogramme(image) -> None:\n",
    "  min = np.min(image)\n",
    "  max = np.max(image)\n",
    "  hc = histogramme_cumule(image)\n",
    "  plt.title('Image et histogramme apres egalisation')\n",
    "  eg = np.round((((max-min)/image.size)*hc) + min).astype(int)\n",
    "  plt.bar(np.arange(256),eg)\n",
    "  plt.show()\n",
    "  "
   ]
  },
  {
   "cell_type": "code",
   "execution_count": null,
   "metadata": {},
   "outputs": [],
   "source": [
    "g_img = cv.imread(\"assets/hawkey.png\")"
   ]
  },
  {
   "cell_type": "code",
   "execution_count": null,
   "metadata": {},
   "outputs": [],
   "source": [
    "egaliser_histogramme(g_img)"
   ]
  }
 ],
 "metadata": {
  "interpreter": {
   "hash": "c9d3fa381d95475d40c28039b791b5da7416cbdb01ba79e7c769ff56af08c488"
  },
  "kernelspec": {
   "display_name": "Python 3.9.6 64-bit",
   "language": "python",
   "name": "python3"
  },
  "language_info": {
   "codemirror_mode": {
    "name": "ipython",
    "version": 3
   },
   "file_extension": ".py",
   "mimetype": "text/x-python",
   "name": "python",
   "nbconvert_exporter": "python",
   "pygments_lexer": "ipython3",
   "version": "3.9.6"
  },
  "orig_nbformat": 4
 },
 "nbformat": 4,
 "nbformat_minor": 2
}
