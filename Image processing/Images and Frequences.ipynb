{
 "cells": [
  {
   "cell_type": "markdown",
   "metadata": {},
   "source": [
    "# Découvrez les fréquences spatiales et la représentation spectrale\n",
    "\n",
    "Le filtrage des images permet d’appliquer un traitement global sur une image pour la modifier. Par exemple, cela permet de supprimer le bruit dans l’image avant de la traiter. Le filtrage est très utilisé en traitement d’image, souvent en pré ou post-traitement, c’est-à-dire en début ou en fin de la chaîne de traitements.\n",
    "\n",
    "Nous verrons le filtrage linéaire ainsi que quelques filtres non linéaires les plus utiles.\n",
    "\n",
    "Pour bien comprendre les filtres linéaires, il est important d’assimiler la notion de fréquence spatiale et de représentation spectrale d’une image."
   ]
  }
 ],
 "metadata": {
  "interpreter": {
   "hash": "226a917b052786ebbdce53c6b75708fd2a65671e8b8b62b5e4a6aa0276facf29"
  },
  "kernelspec": {
   "display_name": "Python 3.8.8 ('base')",
   "language": "python",
   "name": "python3"
  },
  "language_info": {
   "codemirror_mode": {
    "name": "ipython",
    "version": 3
   },
   "file_extension": ".py",
   "mimetype": "text/x-python",
   "name": "python",
   "nbconvert_exporter": "python",
   "pygments_lexer": "ipython3",
   "version": "3.8.8"
  },
  "orig_nbformat": 4
 },
 "nbformat": 4,
 "nbformat_minor": 2
}
