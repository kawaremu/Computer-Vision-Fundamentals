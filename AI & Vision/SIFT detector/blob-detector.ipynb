{
  "cells": [
    {
      "cell_type": "markdown",
      "metadata": {},
      "source": [
        "# Laplacian Blob Detector\n",
        "\n",
        "## Algorithm outline\n",
        "\n",
        "1. Generate a Laplacian of Gaussian filter.\n",
        "2. Build a Laplacian scale space, starting with some initial scale and going for n iterations:\n",
        "    - Filter image with scale-normalized Laplacian at current scale.\n",
        "    - Save square of Laplacian response for current level of scale space.\n",
        "    - Increase scale by a factor \n",
        "    - Increase scale by a factor \n",
        "3. Perform non-maximum suppression in scale space.\n",
        "4. Display resulting circles at their characteristic scales.\n"
      ]
    },
    {
      "cell_type": "code",
      "execution_count": null,
      "metadata": {
        "colab": {},
        "colab_type": "code",
        "id": "yCfTc8fR1o_P",
        "outputId": "fad05c6f-878d-418a-e0a0-4333d495c004"
      },
      "outputs": [],
      "source": [
        "import numpy as np\n",
        "import cv2\n",
        "from matplotlib import pyplot as plt\n",
        "import math\n",
        "import time\n",
        "from scipy import ndimage\n",
        "\n",
        "img = cv2.imread('data/einstein.jpg', 0)\n",
        "img1 = cv2.imread('data/einstein.jpg')\n",
        "img = img/255\n",
        "print('Image shape : ',img.shape)\n",
        "plt.imshow(img, cmap = 'gray')\n",
        "plt.show()"
      ]
    },
    {
      "cell_type": "code",
      "execution_count": null,
      "metadata": {
        "colab": {},
        "colab_type": "code",
        "id": "WWATMwsX1o_C"
      },
      "outputs": [],
      "source": [
        "def calcSigma(no_s,k,s):\n",
        "    sigma = []\n",
        "    for i in range(no_s):\n",
        "        sigma1 = s*(k**i)\n",
        "        sigma.append(sigma1)\n",
        "\n",
        "    h = [round(i*6) for i in sigma]\n",
        "    for i in range(len(h)):\n",
        "        if h[i]%2 == 0:\n",
        "            h[i] = h[i]+1\n",
        "    return sigma,h"
      ]
    },
    {
      "cell_type": "code",
      "execution_count": null,
      "metadata": {
        "colab": {},
        "colab_type": "code",
        "id": "SZfjjH9z1o_F"
      },
      "outputs": [],
      "source": [
        "def calcLoG(sigma,no_s,h):\n",
        "    LoG = []\n",
        "    for i in range(no_s):\n",
        "        LoG1 = np.zeros((h[i],h[i]))\n",
        "        r1 = int(-(math.floor(h[i]/2)))\n",
        "        r2 = int(math.floor(h[i]/2))\n",
        "        for x in range(r1,r2+1):\n",
        "            for y in range(r1,r2+1):\n",
        "                LoG1[x+r2,y+r2] = (-1/(math.pi*(sigma[i]**2)))*(1-(((x**2)+(y**2))/(2*(sigma[i]**2))))*np.exp(-((x**2)+(y**2))/(2*(sigma[i]**2)))\n",
        "        LoG.append(LoG1)\n",
        "    return LoG"
      ]
    },
    {
      "cell_type": "code",
      "execution_count": null,
      "metadata": {
        "colab": {},
        "colab_type": "code",
        "id": "fRqHjL8u1o_I"
      },
      "outputs": [],
      "source": [
        "def convPadded(image, Filter,no_s,h):\n",
        "    start = time.time()\n",
        "    row = image.shape[0]\n",
        "    col = image.shape[1]\n",
        "    convout = []\n",
        "    for i in range(no_s):\n",
        "        Filter[i] = np.flipud(np.fliplr(Filter[i]))  \n",
        "        out = np.zeros_like(image)  \n",
        "        r = int(math.floor(h[i]/2))+1\n",
        "        padded = np.zeros((row + h[i]+1, col + h[i]+1))   \n",
        "        padded[r:-r, r:-r] = image\n",
        "        for x in range(row): \n",
        "            for y in range(col):\n",
        "                out[x,y]=(Filter[i]*padded[x:x+h[i],y:y+h[i]]).sum()  \n",
        "        convout.append(out)\n",
        "    end = time.time()\n",
        "    print('Time taken for convolution : ', end-start)\n",
        "    return convout "
      ]
    },
    {
      "cell_type": "code",
      "execution_count": null,
      "metadata": {
        "colab": {},
        "colab_type": "code",
        "id": "4LPaqdot1o_K"
      },
      "outputs": [],
      "source": [
        "def convInbuilt(img,LoG,no_s):\n",
        "    start = time.time()\n",
        "    convout = []\n",
        "    for i in range(no_s): \n",
        "        out = np.zeros_like(img)\n",
        "        out = ndimage.convolve(img,LoG[i],mode = 'constant')\n",
        "        convout.append(out)\n",
        "    end = time.time()\n",
        "    print('Time taken for convolution : ', end-start)\n",
        "    return convout"
      ]
    },
    {
      "cell_type": "code",
      "execution_count": null,
      "metadata": {
        "colab": {},
        "colab_type": "code",
        "id": "Z1BpANKy1o_M"
      },
      "outputs": [],
      "source": [
        "def maximaDetection(img,convout,sigma,no_s,threshold):\n",
        "    start1 = time.time()\n",
        "    row = img.shape[0]\n",
        "    col = img.shape[1]\n",
        "    blob_loc = []\n",
        "    no_minimas = 0\n",
        "    for n in range(no_s):\n",
        "        blob = []\n",
        "        rad = int(math.sqrt(2)*sigma[n])\n",
        "        for x in range(row):\n",
        "            for y in range(col):\n",
        "                temp = 'minima'\n",
        "                for o in range(-1,2):\n",
        "                    for i in range(-1,2):\n",
        "                        for j in range(-1,2):\n",
        "                            if x+i >= 0 and y+j >= 0 and x+i < row and y+j < col and n+o >= 0 and n+o < no_s:\n",
        "                                if convout[n][x,y] > threshold:\n",
        "                                    if convout[n][x,y] < convout[n+o][x+i,y+j]: temp = 'not minima'   \n",
        "                                else: temp = 'not minima'\n",
        "                if temp == 'minima':\n",
        "                    if x-rad > 0 and y-rad > 0 and x-rad < row and y-rad < col:\n",
        "                        blob.append([x,y])\n",
        "                        cv2.circle(img, (y, x), rad, (0,0,255), 1)\n",
        "        print('No of minimas in scale space', n,': ',len(blob))\n",
        "        no_minimas = no_minimas + len(blob)\n",
        "        blob_loc.append(blob)\n",
        "    end1 = time.time()\n",
        "    print('Time taken for maxima reduction : ', end1-start1)\n",
        "    print('Total no. of minimas : ', no_minimas)\n",
        "    return img,blob_loc\n",
        "# print(blob_loc)"
      ]
    },
    {
      "cell_type": "code",
      "execution_count": null,
      "metadata": {
        "colab": {},
        "colab_type": "code",
        "id": "UMVjVMvV1o_S",
        "outputId": "61b316da-4189-4820-fd52-a8f27237ac25"
      },
      "outputs": [],
      "source": [
        "no_s = 15\n",
        "k = 1.24\n",
        "s = 1/math.sqrt(2)\n",
        "threshold = 0.01\n",
        "\n",
        "sigma,h = calcSigma(no_s,k,s)\n",
        "LoG = calcLoG(sigma,no_s,h)\n",
        "\n",
        "for i in range(no_s):\n",
        "    print(np.sum(LoG[i]))\n",
        "    print(LoG[i].shape)\n",
        "    plt.imshow(LoG[i])\n",
        "    plt.show()"
      ]
    },
    {
      "cell_type": "code",
      "execution_count": null,
      "metadata": {
        "colab": {},
        "colab_type": "code",
        "id": "3H492WH-1o_V",
        "outputId": "79e1eb48-e0a6-4f4b-e192-1277dd307bc6",
        "scrolled": true
      },
      "outputs": [],
      "source": [
        "convout = convPadded(img,LoG,no_s,h)\n",
        "# convout = convInbuilt(img,LoG,no_s)\n",
        "\n",
        "for i in range(no_s):\n",
        "    convout[i] = np.square(convout[i])\n",
        "#     print(convout[i])\n",
        "    print(convout[i].shape)\n",
        "    plt.imshow(convout[i],cmap=\"gray\")\n",
        "    plt.show()"
      ]
    },
    {
      "cell_type": "code",
      "execution_count": null,
      "metadata": {
        "colab": {},
        "colab_type": "code",
        "id": "xPwvE7nS1o_X"
      },
      "outputs": [],
      "source": [
        "# no_of_bins, bins, patches = plt.hist(convout[0])\n",
        "# print(no_of_bins)\n",
        "# print(bins)"
      ]
    },
    {
      "cell_type": "code",
      "execution_count": null,
      "metadata": {
        "colab": {},
        "colab_type": "code",
        "id": "-tmPMUeX1o_Z",
        "outputId": "00f11341-a4f5-4300-f247-8592374200fc"
      },
      "outputs": [],
      "source": [
        "img1,blob_loc = maximaDetection(img1,convout,sigma,no_s,threshold)"
      ]
    },
    {
      "cell_type": "code",
      "execution_count": null,
      "metadata": {
        "colab": {},
        "colab_type": "code",
        "id": "0boj9UVX1o_c",
        "outputId": "ecd45229-d27b-4158-fa1b-b2dc12bd2eda"
      },
      "outputs": [],
      "source": [
        "plt.imshow(img1)\n",
        "plt.show()\n",
        "cv2.imwrite('einstein-blobs.png',img1)\n",
        "# plt.savefig('sunflowers_blob')\n",
        "print('Time taken for the complete program = ', time.time() - START, 'sec')"
      ]
    }
  ],
  "metadata": {
    "colab": {
      "name": "Project-checkpoint.ipynb",
      "provenance": [],
      "version": "0.3.2"
    },
    "kernelspec": {
      "display_name": "Python 3",
      "language": "python",
      "name": "python3"
    },
    "language_info": {
      "codemirror_mode": {
        "name": "ipython",
        "version": 3
      },
      "file_extension": ".py",
      "mimetype": "text/x-python",
      "name": "python",
      "nbconvert_exporter": "python",
      "pygments_lexer": "ipython3",
      "version": "3.8.8"
    }
  },
  "nbformat": 4,
  "nbformat_minor": 0
}
